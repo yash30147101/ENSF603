{
  "cells": [
    {
      "cell_type": "code",
      "execution_count": null,
      "metadata": {
        "colab": {
          "background_save": true,
          "base_uri": "https://localhost:8080/"
        },
        "id": "ED9-yv7ji6lp",
        "outputId": "4ed874fc-1e95-4450-b752-92d0e8b99c9b"
      },
      "outputs": [
        {
          "output_type": "stream",
          "name": "stdout",
          "text": [
            "--2022-10-18 01:32:46--  http://deepyeti.ucsd.edu/jianmo/amazon/categoryFiles/Video_Games.json.gz\n",
            "Resolving deepyeti.ucsd.edu (deepyeti.ucsd.edu)... 169.228.63.50\n",
            "Connecting to deepyeti.ucsd.edu (deepyeti.ucsd.edu)|169.228.63.50|:80... "
          ]
        }
      ],
      "source": [
        "# !wget http://deepyeti.ucsd.edu/jianmo/amazon/categoryFiles/Video_Games.json.gz"
      ]
    },
    {
      "cell_type": "code",
      "execution_count": null,
      "metadata": {
        "id": "q09s0J4_kAQ3"
      },
      "outputs": [],
      "source": [
        "# !gzip -d /content/Video_Games.json.gz"
      ]
    },
    {
      "cell_type": "code",
      "execution_count": null,
      "metadata": {
        "id": "A_YJjGxukvu0"
      },
      "outputs": [],
      "source": [
        "import json\n",
        "import csv\n",
        "\n",
        "file_str = \"\"\"{ \"VideoGames\": [\"\"\"\n",
        "with open('/content/Video_Games.json') as myfile:\n",
        "  count = 1\n",
        "  for json_str in myfile:\n",
        "    file_str += (json_str + \", \")\n",
        "    count += 1\n",
        "    if count == 10:\n",
        "      break;\n",
        "file_str = file_str[:-2]\n",
        "file_str += \"]}\"\n",
        "\n",
        "data = json.loads(file_str)\n",
        "# print(data)"
      ]
    },
    {
      "cell_type": "code",
      "execution_count": null,
      "metadata": {
        "id": "oyEQDuzY5GM8"
      },
      "outputs": [],
      "source": [
        "MyList = []\n",
        "MyColumnList = ['overall', 'verified', 'reviewTime', 'reviewerID', 'asin', 'reviewerName', 'reviewText', 'summary', 'unixReviewTime']\n",
        "\n",
        "for record in data['VideoGames']:\n",
        "  dic = {}\n",
        "  for my_key in MyColumnList:\n",
        "    if my_key in record.keys():\n",
        "      dic[my_key]= record[my_key]\n",
        "    else:\n",
        "      dic[my_key]=None\n",
        "  MyList.append(dic)\n",
        "\n",
        "data['VideoGames'] = MyList\n",
        "# print(data)"
      ]
    },
    {
      "cell_type": "code",
      "execution_count": null,
      "metadata": {
        "id": "WDaIToGClKvY"
      },
      "outputs": [],
      "source": [
        "VideoGames_data = data['VideoGames']\n",
        " \n",
        "# now we will open a file for writing\n",
        "data_file = open('VideoGames10.csv', 'w')\n",
        " \n",
        "# create the csv writer object\n",
        "csv_writer = csv.writer(data_file)\n",
        " \n",
        "# Counter variable used for writing\n",
        "# headers to the CSV file\n",
        "count = 0\n",
        " \n",
        "for emp in VideoGames_data:\n",
        "    if count == 0:\n",
        " \n",
        "        # Writing headers of CSV file\n",
        "        header = emp.keys()\n",
        "        csv_writer.writerow(header)\n",
        "        count += 1\n",
        " \n",
        "    # Writing data of CSV file\n",
        "    csv_writer.writerow(emp.values())\n",
        " \n",
        "data_file.close()"
      ]
    },
    {
      "cell_type": "code",
      "execution_count": null,
      "metadata": {
        "id": "-3XCrHbiqV4z"
      },
      "outputs": [],
      "source": [
        "# data"
      ]
    },
    {
      "cell_type": "code",
      "execution_count": null,
      "metadata": {
        "id": "b5dGI1LJ5BTu"
      },
      "outputs": [],
      "source": []
    }
  ],
  "metadata": {
    "colab": {
      "provenance": []
    },
    "kernelspec": {
      "display_name": "Python 3",
      "name": "python3"
    },
    "language_info": {
      "name": "python"
    }
  },
  "nbformat": 4,
  "nbformat_minor": 0
}